{
 "cells": [
  {
   "cell_type": "code",
   "execution_count": 7,
   "id": "76bc736a",
   "metadata": {},
   "outputs": [],
   "source": [
    "import json\n",
    "from chromadb import Client\n",
    "from chromadb.config import Settings\n",
    "import chromadb.utils.embedding_functions as embedding_functions\n",
    "\n",
    "# Load your JSON\n",
    "with open('mitre_fight.json') as f:\n",
    "    raw_data = json.load(f)\n",
    "\n",
    "# Flatten each threat entry into a document\n",
    "docs = []\n",
    "metadatas = []\n",
    "\n",
    "for threat_id, content in raw_data.items():\n",
    "    doc = f\"ID: {threat_id}\\nName: {content.get('Name')}\\nDescription: {content.get('Description')}\"\n",
    "    doc += f\"\\nPlatform: {content.get('Platform')}\\nTactics: {content.get('Tactics')}\"\n",
    "    \n",
    "    for example in content.get(\"Procedure Examples\", []):\n",
    "        doc += f\"\\nProcedure Example - {example.get('name')}: {example.get('description')}\"\n",
    "\n",
    "    for detection in content.get(\"Detection\", []):\n",
    "        doc += f\"\\nDetection - {detection.get('id')}: {detection.get('description')}\"\n",
    "\n",
    "    for asset in content.get(\"Critical Assets\", []):\n",
    "        doc += f\"\\nCritical Asset - {asset.get('name')}: {asset.get('description')}\"\n",
    "\n",
    "    for pre in content.get(\"Pre-Conditions\", []):\n",
    "        doc += f\"\\nPre-condition - {pre.get('name')}: {pre.get('description')}\"\n",
    "\n",
    "    for post in content.get(\"Post-Conditions\", []):\n",
    "        doc += f\"\\nPost-condition - {post.get('name')}: {post.get('description')}\"\n",
    "\n",
    "    for mitigation in content.get(\"Mitigations\", []):\n",
    "        doc += f\"\\nMitigation - {mitigation.get('name')}: {mitigation.get('description')}\"\n",
    "\n",
    "    # for ref in content.get(\"References\", []):\n",
    "    #     doc += f\"\\nReference - {ref.get('name')}: {ref.get('description')}\"\n",
    "\n",
    "    docs.append(doc)\n",
    "    metadatas.append({\"id\": threat_id, \"name\": content.get(\"Name\")})\n",
    "    llamaindex_docs = [\n",
    "    Document(text=doc, metadata=meta)\n",
    "    for doc, meta in zip(docs, metadatas)\n",
    "    ]\n"
   ]
  },
  {
   "cell_type": "code",
   "execution_count": 9,
   "id": "61437777",
   "metadata": {},
   "outputs": [],
   "source": [
    "import chromadb\n",
    "from llama_index.core import Document, VectorStoreIndex\n",
    "from llama_index.vector_stores.chroma import ChromaVectorStore\n",
    "from llama_index.core.storage.storage_context import StorageContext\n",
    "from llama_index.embeddings.huggingface import HuggingFaceEmbedding\n",
    "\n",
    "embed_model  = HuggingFaceEmbedding(model_name = \"BAAI/bge-large-en\")\n",
    "        \n",
    "chroma_client = chromadb.PersistentClient(path='mitre_chroma')\n",
    "vector_store = ChromaVectorStore(chroma_collection=chroma_client.get_or_create_collection('mitre'))\n",
    "storage_context = StorageContext.from_defaults(vector_store=vector_store)\n",
    "\n",
    "index = VectorStoreIndex.from_documents(\n",
    "            llamaindex_docs,\n",
    "            storage_context=storage_context,\n",
    "            embed_model=embed_model\n",
    "        )"
   ]
  },
  {
   "cell_type": "code",
   "execution_count": 21,
   "id": "cb907194",
   "metadata": {},
   "outputs": [],
   "source": [
    "retriever = index.as_retriever(similarity_top_k=4)\n",
    "\n",
    "# query = 'how do I mitigate handling of NAS counter values typically used in generating/verifying the message authentication codes (MAC) for replay protection of NAS layer messages'\n",
    "\n",
    "query = 'Rogue AF/NEF modifies UE\\u2019s configuration for a given external service'\n",
    "\n",
    "res = retriever.retrieve(query)"
   ]
  },
  {
   "cell_type": "code",
   "execution_count": 22,
   "id": "3032d533",
   "metadata": {},
   "outputs": [
    {
     "name": "stdout",
     "output_type": "stream",
     "text": [
      "{'id': 'FGT5022', 'name': 'Alter Subscriber Profile'} -- 0.7666\n",
      "{'id': 'FGT5008', 'name': 'Redirection of traffic via user plane network function'} -- 0.7471\n",
      "{'id': 'FGT1600.501', 'name': 'Radio Interface'} -- 0.7333\n",
      "{'id': 'FGT1608.502', 'name': 'Configure Operator Core Network'} -- 0.7189\n"
     ]
    }
   ],
   "source": [
    "for node in res:\n",
    "    print(node.metadata, f\"-- {node.score:.4f}\")"
   ]
  }
 ],
 "metadata": {
  "kernelspec": {
   "display_name": "hf_new_04_2025",
   "language": "python",
   "name": "python3"
  },
  "language_info": {
   "codemirror_mode": {
    "name": "ipython",
    "version": 3
   },
   "file_extension": ".py",
   "mimetype": "text/x-python",
   "name": "python",
   "nbconvert_exporter": "python",
   "pygments_lexer": "ipython3",
   "version": "3.11.11"
  }
 },
 "nbformat": 4,
 "nbformat_minor": 5
}
