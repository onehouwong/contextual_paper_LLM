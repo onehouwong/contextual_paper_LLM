{
 "cells": [
  {
   "cell_type": "code",
   "execution_count": null,
   "metadata": {},
   "outputs": [],
   "source": [
    "# !pip install llama-index-embeddings-voyageai voyageai\n",
    "# !pip install accelerate, peft, transformers, bitsandbytes, llama-index llama-index-llms-huggingface chromadb\n",
    "# !pip install datasets scipy ipywidgets matplotlib"
   ]
  },
  {
   "cell_type": "code",
   "execution_count": null,
   "metadata": {},
   "outputs": [],
   "source": [
    "import warnings\n",
    "warnings.filterwarnings('ignore')\n",
    "from prepare_db import PaperSemanticVectorIndex\n",
    "from omegaconf import OmegaConf\n",
    "from hydra import initialize, compose\n",
    "\n",
    "with initialize(config_path=\"conf\"):\n",
    "    cfg = compose(config_name=\"config\")\n",
    "\n",
    "db = PaperSemanticVectorIndex(cfg)\n",
    "# db.index "
   ]
  }
 ],
 "metadata": {
  "kernelspec": {
   "display_name": "hf_new_04_2025",
   "language": "python",
   "name": "python3"
  },
  "language_info": {
   "codemirror_mode": {
    "name": "ipython",
    "version": 3
   },
   "file_extension": ".py",
   "mimetype": "text/x-python",
   "name": "python",
   "nbconvert_exporter": "python",
   "pygments_lexer": "ipython3",
   "version": "3.11.11"
  }
 },
 "nbformat": 4,
 "nbformat_minor": 2
}
